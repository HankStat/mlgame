{
 "cells": [
  {
   "cell_type": "code",
   "execution_count": 25,
   "metadata": {},
   "outputs": [],
   "source": [
    "import pickle\n",
    "# Slope = []\n",
    "# Ball_x = []\n",
    "# Ball_y = []\n",
    "# Ball_speed_x = []\n",
    "# Ball_speed_y = []\n",
    "# Blocker = []\n",
    "# Block_speed = []\n",
    "# Platform = []\n",
    "# Platform_2 = []\n",
    "Command = []\n",
    "# Command_2 = []\n",
    "file_list = []\n",
    "# Type = []\n",
    "Head_x = []\n",
    "Head_y = []\n",
    "Food_x = []\n",
    "Food_y = []\n",
    "left = []\n",
    "right = []\n",
    "up = []\n",
    "down = []\n",
    "previous_dir = []\n",
    "for i in range(1,869):\n",
    "    obj = \"dt(\"+str(i)+\")\"\n",
    "    file_list.append(obj)\n",
    "for j in file_list:\n",
    "    path = \"C:/master/games/snake/log/\"+j+\".pickle\"\n",
    "    file = open(path, \"rb\")\n",
    "    temp_scene_info = []\n",
    "    temp_command = []\n",
    "    data = pickle.load(file)\n",
    "    temp_scene_info = temp_scene_info + data['scene_info']\n",
    "    file.close()\n",
    "    index=[]\n",
    "    for i, s in enumerate(temp_scene_info[1:-1]):\n",
    "        part = []\n",
    "        for obj in s['snake_body']:\n",
    "            part.append(obj)\n",
    "        if len(part) >60:\n",
    "            break\n",
    "        head_x = s['snake_head'][0]\n",
    "        head_y = s['snake_head'][1]\n",
    "        food_x = s['food'][0]\n",
    "        food_y = s['food'][1]\n",
    "        pre_x_speed = temp_scene_info[i+1][\"snake_head\"][0] - temp_scene_info[i][\"snake_head\"][0]\n",
    "        pre_y_speed = temp_scene_info[i+1][\"snake_head\"][1] - temp_scene_info[i][\"snake_head\"][1]\n",
    "        x_speed = temp_scene_info[i+2][\"snake_head\"][0] - temp_scene_info[i+1][\"snake_head\"][0]\n",
    "        y_speed = temp_scene_info[i+2][\"snake_head\"][1] - temp_scene_info[i+1][\"snake_head\"][1]\n",
    "        Head_x.append(head_x)\n",
    "        Head_y.append(head_y)\n",
    "        Food_x.append(food_x)\n",
    "        Food_y.append(food_y)\n",
    "        R = 0\n",
    "        L = 0\n",
    "        U = 0\n",
    "        D = 0\n",
    "        for obj in part:\n",
    "            if head_x + 10 ==obj[0] and head_y == obj[1]:\n",
    "                R = 1\n",
    "            if head_x - 10 ==obj[0] and head_y == obj[1]:\n",
    "                L = 1\n",
    "            if head_x ==obj[0] and head_y + 10 == obj[1]:\n",
    "                D = 1\n",
    "            if head_x  ==obj[0] and head_y - 10 == obj[1]:\n",
    "                U = 1\n",
    "        left.append(L)\n",
    "        right.append(R)\n",
    "        up.append(U)\n",
    "        down.append(D)\n",
    "        if pre_y_speed < 0:\n",
    "            previous_dir.append(0)\n",
    "        if pre_y_speed > 0:\n",
    "            previous_dir.append(1)\n",
    "        if pre_x_speed < 0:\n",
    "            previous_dir.append(2)\n",
    "        if pre_x_speed > 0:\n",
    "            previous_dir.append(3)\n",
    "        if y_speed < 0:\n",
    "            Command.append(0)\n",
    "        if y_speed > 0:\n",
    "            Command.append(1)\n",
    "        if x_speed < 0:\n",
    "            Command.append(2)\n",
    "        if x_speed > 0:\n",
    "            Command.append(3)"
   ]
  },
  {
   "cell_type": "code",
   "execution_count": 26,
   "metadata": {},
   "outputs": [],
   "source": [
    "import numpy as np\n",
    "\n",
    "numpy_data = np.array([Head_x, Head_y,Food_x,Food_y, left, right,up, down,previous_dir])\n",
    "X = np.transpose(numpy_data) \n",
    "y = Command"
   ]
  },
  {
   "cell_type": "code",
   "execution_count": 27,
   "metadata": {},
   "outputs": [
    {
     "name": "stdout",
     "output_type": "stream",
     "text": [
      "0.9999401656215595\n"
     ]
    }
   ],
   "source": [
    "from sklearn import tree\n",
    "model = tree.DecisionTreeClassifier()\n",
    "model.fit(X, y)\n",
    "print(model.score(X, y))"
   ]
  },
  {
   "cell_type": "code",
   "execution_count": 28,
   "metadata": {},
   "outputs": [],
   "source": [
    "with open('C:\\master\\games\\snake\\ml\\my_model.pickle', 'wb') as f:\n",
    "    pickle.dump(model, f)"
   ]
  },
  {
   "cell_type": "code",
   "execution_count": 13,
   "metadata": {},
   "outputs": [
    {
     "data": {
      "text/plain": [
       "[3, 3, 3, 3, 3, 3, 3, 3, 3, 3, 3, 3, 3, 3, 3, 3, 1, 1, 1, 1]"
      ]
     },
     "execution_count": 13,
     "metadata": {},
     "output_type": "execute_result"
    }
   ],
   "source": []
  },
  {
   "cell_type": "code",
   "execution_count": null,
   "metadata": {},
   "outputs": [],
   "source": []
  }
 ],
 "metadata": {
  "kernelspec": {
   "display_name": "Python 3",
   "language": "python",
   "name": "python3"
  },
  "language_info": {
   "codemirror_mode": {
    "name": "ipython",
    "version": 3
   },
   "file_extension": ".py",
   "mimetype": "text/x-python",
   "name": "python",
   "nbconvert_exporter": "python",
   "pygments_lexer": "ipython3",
   "version": "3.8.5"
  }
 },
 "nbformat": 4,
 "nbformat_minor": 4
}
