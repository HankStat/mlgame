{
 "cells": [
  {
   "cell_type": "code",
   "execution_count": 5,
   "metadata": {},
   "outputs": [],
   "source": [
    "import pickle\n",
    "Slope = []\n",
    "Ball_x = []\n",
    "Ball_y = []\n",
    "Ball_speed_x = []\n",
    "Ball_speed_y = []\n",
    "Blocker = []\n",
    "Block_speed = []\n",
    "Platform = []\n",
    "Platform_2 = []\n",
    "Command = []\n",
    "Command_2 = []\n",
    "file_list = []\n",
    "Type = []\n",
    "for y in range(1,5944):\n",
    "    obj = \"dec(\"+str(y)+\")\"\n",
    "    file_list.append(obj)\n",
    "for j in file_list:\n",
    "    path = \"C:/master/games/pingpong/log/\"+j+\".pickle\"\n",
    "    file = open(path, \"rb\")\n",
    "    temp_scene_info = []\n",
    "    temp_command = []\n",
    "    data = pickle.load(file)\n",
    "    temp_scene_info = temp_scene_info + data['scene_info']\n",
    "    temp_command = temp_command + data['command']\n",
    "    file.close()\n",
    "    for ind in range(len(temp_command)):\n",
    "        if temp_command[ind][0] == \"SERVE_TO_LEFT\" or \"SERVE_TO_RIGHT\":\n",
    "            break\n",
    "        elif temp_command[ind][1] == \"SERVE_TO_LEFT\" or \"SERVE_TO_RIGHT\":\n",
    "            break\n",
    "    temp_scene_info = temp_scene_info[ind+1:]\n",
    "    temp_command = temp_command[ind+1:]\n",
    "    index=[]\n",
    "    for i, s in enumerate(temp_scene_info[1:-3]):\n",
    "        x_ball = s['ball'][0]\n",
    "        y_ball = s['ball'][1]\n",
    "        plat = s['platform_1P'][0]\n",
    "        plat_2 = s['platform_2P'][0]\n",
    "        x_speed = s['ball_speed'][0]\n",
    "        y_speed = s['ball_speed'][1]\n",
    "        blocker = s['blocker'][0]\n",
    "        frame = s['frame']\n",
    "        block_speed = temp_scene_info[i+2][\"blocker\"][0] - temp_scene_info[i+1][\"blocker\"][0]\n",
    "        if x_speed ==0 or y_speed == 0:\n",
    "            index.append(i)\n",
    "            continue\n",
    "        Slope.append(x_speed/y_speed)\n",
    "        Ball_x.append(x_ball)\n",
    "        Ball_y.append(y_ball)\n",
    "        Platform.append(plat)\n",
    "        Platform_2.append(plat_2)\n",
    "        Ball_speed_x.append(x_speed)\n",
    "        Ball_speed_y.append(y_speed)\n",
    "        Block_speed.append(block_speed)\n",
    "        Blocker.append(blocker)\n",
    "    for i in range(len(temp_command[1:-3])):\n",
    "        if i in index:\n",
    "            continue\n",
    "        if temp_command[1:-3][i][0] == \"NONE\":\n",
    "            Command.append(0)\n",
    "        elif temp_command[1:-3][i][0] == \"MOVE_LEFT\":\n",
    "            Command.append(-1)\n",
    "        elif temp_command[1:-3][i][0] == \"MOVE_RIGHT\":\n",
    "            Command.append(1)\n",
    "        else:\n",
    "            Command.append(0)\n",
    "    for i in range(len(temp_command[1:-3])):\n",
    "        if i in index:\n",
    "            continue\n",
    "        if temp_command[1:-3][i][1] == \"NONE\":\n",
    "            Command_2.append(0)\n",
    "        elif temp_command[1:-3][i][1] == \"MOVE_LEFT\":\n",
    "            Command_2.append(-1)\n",
    "        elif temp_command[1:-3][i][1] == \"MOVE_RIGHT\":\n",
    "            Command_2.append(1)\n",
    "        else:\n",
    "            Command_2.append(0)"
   ]
  },
  {
   "cell_type": "code",
   "execution_count": 12,
   "metadata": {},
   "outputs": [
    {
     "name": "stdout",
     "output_type": "stream",
     "text": [
      "10015960\n"
     ]
    }
   ],
   "source": [
    "import numpy as np\n",
    "\n",
    "numpy_data = np.array([Ball_x, Ball_y, Ball_speed_x, Ball_speed_y,Slope, Block_speed,Blocker, Platform])\n",
    "X = np.transpose(numpy_data) \n",
    "y = Command"
   ]
  },
  {
   "cell_type": "code",
   "execution_count": 7,
   "metadata": {},
   "outputs": [],
   "source": [
    "numpy_data_2 = np.array([Ball_x, Ball_y, Ball_speed_x, Ball_speed_y,Slope, Block_speed,Blocker, Platform_2])\n",
    "XX = np.transpose(numpy_data_2) \n",
    "yy = Command_2"
   ]
  },
  {
   "cell_type": "code",
   "execution_count": 8,
   "metadata": {},
   "outputs": [
    {
     "name": "stdout",
     "output_type": "stream",
     "text": [
      "DecisionTreeClassifier()\n",
      "0.9741413703728848\n"
     ]
    }
   ],
   "source": [
    "from sklearn import tree\n",
    "model = tree.DecisionTreeClassifier()\n",
    "print(model.fit(X, y))\n",
    "print(model.score(X, y))"
   ]
  },
  {
   "cell_type": "code",
   "execution_count": 9,
   "metadata": {},
   "outputs": [],
   "source": [
    "with open('C:\\master\\games\\pingpong\\ml\\my_model_dec(1).pickle', 'wb') as f:\n",
    "    pickle.dump(model, f)"
   ]
  },
  {
   "cell_type": "code",
   "execution_count": 10,
   "metadata": {},
   "outputs": [
    {
     "name": "stdout",
     "output_type": "stream",
     "text": [
      "0.9741405716476503\n"
     ]
    }
   ],
   "source": [
    "model.fit(XX, yy)\n",
    "print(model.score(XX, yy))"
   ]
  },
  {
   "cell_type": "code",
   "execution_count": 11,
   "metadata": {},
   "outputs": [],
   "source": [
    "with open('C:\\master\\games\\pingpong\\ml\\my_model_dec(2).pickle', 'wb') as f:\n",
    "    pickle.dump(model, f)"
   ]
  },
  {
   "cell_type": "code",
   "execution_count": 16,
   "metadata": {},
   "outputs": [],
   "source": [
    "from sklearn.tree import export_graphviz"
   ]
  },
  {
   "cell_type": "code",
   "execution_count": 17,
   "metadata": {},
   "outputs": [],
   "source": [
    "export_graphviz(model, out_file='tree.dot', feature_names=['ball_x','ball_y','x_speed','y_speed','slope','block_speed','block','platform'])"
   ]
  },
  {
   "cell_type": "code",
   "execution_count": 18,
   "metadata": {},
   "outputs": [
    {
     "name": "stdout",
     "output_type": "stream",
     "text": [
      "0.9764538078960916\n"
     ]
    }
   ],
   "source": [
    "model = tree.DecisionTreeClassifier()\n",
    "model.fit(XX, yy)\n",
    "print(model.score(XX, yy))\n",
    "with open('C:\\master\\games\\pingpong\\ml\\my_model(7).pickle', 'wb') as f:\n",
    "    pickle.dump(model, f)"
   ]
  },
  {
   "cell_type": "code",
   "execution_count": null,
   "metadata": {},
   "outputs": [],
   "source": []
  }
 ],
 "metadata": {
  "kernelspec": {
   "display_name": "Python 3",
   "language": "python",
   "name": "python3"
  },
  "language_info": {
   "codemirror_mode": {
    "name": "ipython",
    "version": 3
   },
   "file_extension": ".py",
   "mimetype": "text/x-python",
   "name": "python",
   "nbconvert_exporter": "python",
   "pygments_lexer": "ipython3",
   "version": "3.8.5"
  }
 },
 "nbformat": 4,
 "nbformat_minor": 4
}
